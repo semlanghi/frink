{
 "cells": [
  {
   "cell_type": "code",
   "execution_count": 41,
   "id": "7bf17ae1-a9f9-42f3-a237-d62d42cda50d",
   "metadata": {},
   "outputs": [],
   "source": [
    "import numpy as np\n",
    "import matplotlib.pyplot as plt\n",
    "import pandas as pd\n",
    "import csv\n",
    "# import OS module\n",
    "import os"
   ]
  },
  {
   "cell_type": "code",
   "execution_count": 42,
   "id": "2e807d46",
   "metadata": {},
   "outputs": [],
   "source": [
    "def remove_prefix(text, prefix):\n",
    "    if text.startswith(prefix):\n",
    "        return text[len(prefix):]\n",
    "    return text\n",
    "\n",
    "def read_map_file(filename):\n",
    "#     dataframe = pd.DataFrame(columns)\n",
    "    \n",
    "    data = {}\n",
    "    prefix_to_remove = \"method=processElement \"\n",
    "    prefix_to_remove2 = \"method=onEventTime \"\n",
    "    with open(filename, 'r') as file:\n",
    "        fileWrite = open(filename+'.csv', 'w', newline='')\n",
    "        csv_writer = csv.DictWriter(fileWrite, fieldnames=['method', 'find_start', 'find_end', 'sate_size_items', 'state_size_windows', 'cumulative_merge', 'cumulative_add', 'cumulative_evict', 'cumulative_report', 'cumulative_emit', 'emit_start', 'emit_end', 'evict_start', 'evict_end'])\n",
    "        csv_writer.writeheader()\n",
    "        for line in file:\n",
    "            fields = line.split(',')\n",
    "            for field in fields:\n",
    "                if field.startswith('method=processElement '):\n",
    "                    field_spaced = remove_prefix(field,prefix_to_remove).strip()\n",
    "                    key,value = field_spaced.split('=')\n",
    "                    data[key] = int(value)\n",
    "                    data['method'] = \"processElement\"\n",
    "                elif field.startswith('method=onEventTime '):\n",
    "                    field_spaced = remove_prefix(field,prefix_to_remove2).strip()\n",
    "                    key,value = field_spaced.split('=')\n",
    "                    data[key] = int(value)\n",
    "                    data['method'] = \"onEventTime\"\n",
    "                else: \n",
    "                    if len(field.split(' '))>1:\n",
    "                        field = field.split(' ')[0]\n",
    "                    field_spaced = field.strip()\n",
    "                    key,value = field_spaced.split('=')\n",
    "                    data[key] = int(value)\n",
    "            csv_writer.writerow(data)\n",
    "    return filename+'.csv'"
   ]
  },
  {
   "cell_type": "code",
   "execution_count": 66,
   "id": "06303b61-b230-4508-af92-2a2cbfca8370",
   "metadata": {},
   "outputs": [
    {
     "data": {
      "text/html": [
       "<div>\n",
       "<style scoped>\n",
       "    .dataframe tbody tr th:only-of-type {\n",
       "        vertical-align: middle;\n",
       "    }\n",
       "\n",
       "    .dataframe tbody tr th {\n",
       "        vertical-align: top;\n",
       "    }\n",
       "\n",
       "    .dataframe thead th {\n",
       "        text-align: right;\n",
       "    }\n",
       "</style>\n",
       "<table border=\"1\" class=\"dataframe\">\n",
       "  <thead>\n",
       "    <tr style=\"text-align: right;\">\n",
       "      <th></th>\n",
       "      <th>method</th>\n",
       "      <th>find_start</th>\n",
       "      <th>find_end</th>\n",
       "      <th>sate_size_items</th>\n",
       "      <th>state_size_windows</th>\n",
       "      <th>cumulative_merge</th>\n",
       "      <th>cumulative_add</th>\n",
       "      <th>cumulative_evict</th>\n",
       "      <th>cumulative_report</th>\n",
       "      <th>cumulative_emit</th>\n",
       "      <th>timestamp</th>\n",
       "    </tr>\n",
       "  </thead>\n",
       "  <tbody>\n",
       "    <tr>\n",
       "      <th>0</th>\n",
       "      <td>processElement</td>\n",
       "      <td>1898890647458</td>\n",
       "      <td>1898890699625</td>\n",
       "      <td>2</td>\n",
       "      <td>1</td>\n",
       "      <td>66958</td>\n",
       "      <td>3459</td>\n",
       "      <td>1708</td>\n",
       "      <td>542</td>\n",
       "      <td>36875</td>\n",
       "      <td>1898890840375</td>\n",
       "    </tr>\n",
       "    <tr>\n",
       "      <th>1</th>\n",
       "      <td>processElement</td>\n",
       "      <td>1898890885125</td>\n",
       "      <td>1898890905458</td>\n",
       "      <td>3</td>\n",
       "      <td>1</td>\n",
       "      <td>15000</td>\n",
       "      <td>2791</td>\n",
       "      <td>1667</td>\n",
       "      <td>458</td>\n",
       "      <td>20708</td>\n",
       "      <td>1898890968958</td>\n",
       "    </tr>\n",
       "    <tr>\n",
       "      <th>2</th>\n",
       "      <td>processElement</td>\n",
       "      <td>1898891006666</td>\n",
       "      <td>1898891027333</td>\n",
       "      <td>4</td>\n",
       "      <td>1</td>\n",
       "      <td>13750</td>\n",
       "      <td>2500</td>\n",
       "      <td>1542</td>\n",
       "      <td>458</td>\n",
       "      <td>20250</td>\n",
       "      <td>1898891090250</td>\n",
       "    </tr>\n",
       "    <tr>\n",
       "      <th>3</th>\n",
       "      <td>processElement</td>\n",
       "      <td>1898891131500</td>\n",
       "      <td>1898891150833</td>\n",
       "      <td>5</td>\n",
       "      <td>1</td>\n",
       "      <td>13750</td>\n",
       "      <td>2375</td>\n",
       "      <td>1583</td>\n",
       "      <td>458</td>\n",
       "      <td>19875</td>\n",
       "      <td>1898891211041</td>\n",
       "    </tr>\n",
       "    <tr>\n",
       "      <th>4</th>\n",
       "      <td>processElement</td>\n",
       "      <td>1898891246000</td>\n",
       "      <td>1898891265375</td>\n",
       "      <td>6</td>\n",
       "      <td>1</td>\n",
       "      <td>16833</td>\n",
       "      <td>2417</td>\n",
       "      <td>1667</td>\n",
       "      <td>458</td>\n",
       "      <td>20292</td>\n",
       "      <td>1898891330125</td>\n",
       "    </tr>\n",
       "    <tr>\n",
       "      <th>...</th>\n",
       "      <td>...</td>\n",
       "      <td>...</td>\n",
       "      <td>...</td>\n",
       "      <td>...</td>\n",
       "      <td>...</td>\n",
       "      <td>...</td>\n",
       "      <td>...</td>\n",
       "      <td>...</td>\n",
       "      <td>...</td>\n",
       "      <td>...</td>\n",
       "      <td>...</td>\n",
       "    </tr>\n",
       "    <tr>\n",
       "      <th>412069</th>\n",
       "      <td>processElement</td>\n",
       "      <td>3120296421625</td>\n",
       "      <td>3120297107333</td>\n",
       "      <td>403992</td>\n",
       "      <td>8080</td>\n",
       "      <td>1286208</td>\n",
       "      <td>500</td>\n",
       "      <td>208</td>\n",
       "      <td>42</td>\n",
       "      <td>15458</td>\n",
       "      <td>3120302595416</td>\n",
       "    </tr>\n",
       "    <tr>\n",
       "      <th>412070</th>\n",
       "      <td>processElement</td>\n",
       "      <td>3120302929958</td>\n",
       "      <td>3120303624583</td>\n",
       "      <td>403993</td>\n",
       "      <td>8080</td>\n",
       "      <td>1315708</td>\n",
       "      <td>375</td>\n",
       "      <td>125</td>\n",
       "      <td>42</td>\n",
       "      <td>17583</td>\n",
       "      <td>3120309139333</td>\n",
       "    </tr>\n",
       "    <tr>\n",
       "      <th>412071</th>\n",
       "      <td>processElement</td>\n",
       "      <td>3120309513875</td>\n",
       "      <td>3120310197083</td>\n",
       "      <td>403994</td>\n",
       "      <td>8080</td>\n",
       "      <td>1284667</td>\n",
       "      <td>666</td>\n",
       "      <td>167</td>\n",
       "      <td>0</td>\n",
       "      <td>17500</td>\n",
       "      <td>3120315967125</td>\n",
       "    </tr>\n",
       "    <tr>\n",
       "      <th>412072</th>\n",
       "      <td>processElement</td>\n",
       "      <td>3120316183041</td>\n",
       "      <td>3120316969833</td>\n",
       "      <td>403995</td>\n",
       "      <td>8080</td>\n",
       "      <td>1289958</td>\n",
       "      <td>250</td>\n",
       "      <td>83</td>\n",
       "      <td>42</td>\n",
       "      <td>16541</td>\n",
       "      <td>3120322687958</td>\n",
       "    </tr>\n",
       "    <tr>\n",
       "      <th>412073</th>\n",
       "      <td>processElement</td>\n",
       "      <td>3120322992958</td>\n",
       "      <td>3120323733916</td>\n",
       "      <td>403996</td>\n",
       "      <td>8080</td>\n",
       "      <td>1281958</td>\n",
       "      <td>625</td>\n",
       "      <td>125</td>\n",
       "      <td>0</td>\n",
       "      <td>17416</td>\n",
       "      <td>3120331156291</td>\n",
       "    </tr>\n",
       "  </tbody>\n",
       "</table>\n",
       "<p>412074 rows × 11 columns</p>\n",
       "</div>"
      ],
      "text/plain": [
       "                method     find_start       find_end sate_size_items  \\\n",
       "0       processElement  1898890647458  1898890699625               2   \n",
       "1       processElement  1898890885125  1898890905458               3   \n",
       "2       processElement  1898891006666  1898891027333               4   \n",
       "3       processElement  1898891131500  1898891150833               5   \n",
       "4       processElement  1898891246000  1898891265375               6   \n",
       "...                ...            ...            ...             ...   \n",
       "412069  processElement  3120296421625  3120297107333          403992   \n",
       "412070  processElement  3120302929958  3120303624583          403993   \n",
       "412071  processElement  3120309513875  3120310197083          403994   \n",
       "412072  processElement  3120316183041  3120316969833          403995   \n",
       "412073  processElement  3120322992958  3120323733916          403996   \n",
       "\n",
       "       state_size_windows cumulative_merge cumulative_add cumulative_evict  \\\n",
       "0                       1            66958           3459             1708   \n",
       "1                       1            15000           2791             1667   \n",
       "2                       1            13750           2500             1542   \n",
       "3                       1            13750           2375             1583   \n",
       "4                       1            16833           2417             1667   \n",
       "...                   ...              ...            ...              ...   \n",
       "412069               8080          1286208            500              208   \n",
       "412070               8080          1315708            375              125   \n",
       "412071               8080          1284667            666              167   \n",
       "412072               8080          1289958            250               83   \n",
       "412073               8080          1281958            625              125   \n",
       "\n",
       "       cumulative_report cumulative_emit      timestamp  \n",
       "0                    542           36875  1898890840375  \n",
       "1                    458           20708  1898890968958  \n",
       "2                    458           20250  1898891090250  \n",
       "3                    458           19875  1898891211041  \n",
       "4                    458           20292  1898891330125  \n",
       "...                  ...             ...            ...  \n",
       "412069                42           15458  3120302595416  \n",
       "412070                42           17583  3120309139333  \n",
       "412071                 0           17500  3120315967125  \n",
       "412072                42           16541  3120322687958  \n",
       "412073                 0           17416  3120331156291  \n",
       "\n",
       "[412074 rows x 11 columns]"
      ]
     },
     "execution_count": 66,
     "metadata": {},
     "output_type": "execute_result"
    }
   ],
   "source": [
    "dir_list = [filename for filename in os.listdir('./') if filename.startswith('metrics')]\n",
    "\n",
    "metrics_list = [ pd.read_csv('./'+f) for f in dir_list]\n",
    "\n",
    "# Get the current column names\n",
    "column_names = metrics_list[0].columns.tolist()\n",
    "\n",
    "# Define the index of the column to be renamed\n",
    "index_to_rename = 0  # Assuming you want to rename the column at index 1\n",
    "\n",
    "# Define the new name for the column\n",
    "new_column_name = 'method'\n",
    "\n",
    "# Update the column name at the specified index\n",
    "column_names[index_to_rename] = new_column_name\n",
    "\n",
    "# Assign the updated column names back to the DataFrame\n",
    "metrics_list[0].columns = column_names\n",
    "\n",
    "processElement_df = metrics_list[0][metrics_list[0]['method'].str.startswith('method=processElement ')]\n",
    "\n",
    "processElement_df.columns = ['method', 'find_end', 'sate_size_items', 'state_size_windows', 'cumulative_merge', 'cumulative_add', 'cumulative_evict', 'cumulative_report', 'cumulative_emit']\n",
    "\n",
    "processElement_df[['method', 'find_start']] = processElement_df['method'].str.split(expand=True)\n",
    "\n",
    "# Get the column names\n",
    "columns = processElement_df.columns.tolist()\n",
    "\n",
    "# Reorder the columns, moving the last to the second position\n",
    "new_order = columns[:-1]  # Exclude the last column\n",
    "new_order.insert(1, columns[-1])  # Insert the last column at the second position\n",
    "\n",
    "\n",
    "# Create a new DataFrame with the reordered columns\n",
    "processElement_df = processElement_df[new_order]\n",
    "\n",
    "processElement_df[['cumulative_emit', 'timestamp']] = processElement_df['cumulative_emit'].str.split(expand=True)\n",
    "\n",
    "\n",
    "for column_name in processElement_df.columns:\n",
    "    processElement_df[column_name] = processElement_df[column_name].str.lstrip(column_name+'=')\n",
    "\n",
    "\n",
    "df = processElement_df\n",
    "\n",
    "df "
   ]
  },
  {
   "cell_type": "code",
   "execution_count": 75,
   "id": "dad2a534-9d41-474a-874c-a3b371743f55",
   "metadata": {},
   "outputs": [],
   "source": [
    "df['cumulative_scope'] = df['find_end'].astype(int)-df['find_start'].astype(int)"
   ]
  },
  {
   "cell_type": "code",
   "execution_count": 86,
   "id": "88d50369-720a-441b-9f89-c108107f1b30",
   "metadata": {},
   "outputs": [],
   "source": [
    "df['state_size_windows'] = df['state_size_windows'].astype(int)\n",
    "df['sate_size_items'] = df['sate_size_items'].astype(int)\n",
    "d1 = df[['state_size_windows','cumulative_scope']]"
   ]
  },
  {
   "cell_type": "code",
   "execution_count": 87,
   "id": "bd80c33a-c7fa-484d-b336-d5a61722ac62",
   "metadata": {},
   "outputs": [],
   "source": [
    "d1 = d1.groupby('state_size_windows')['cumulative_scope'].mean().reset_index()"
   ]
  },
  {
   "cell_type": "code",
   "execution_count": 88,
   "id": "19156859",
   "metadata": {},
   "outputs": [
    {
     "data": {
      "text/html": [
       "<div>\n",
       "<style scoped>\n",
       "    .dataframe tbody tr th:only-of-type {\n",
       "        vertical-align: middle;\n",
       "    }\n",
       "\n",
       "    .dataframe tbody tr th {\n",
       "        vertical-align: top;\n",
       "    }\n",
       "\n",
       "    .dataframe thead th {\n",
       "        text-align: right;\n",
       "    }\n",
       "</style>\n",
       "<table border=\"1\" class=\"dataframe\">\n",
       "  <thead>\n",
       "    <tr style=\"text-align: right;\">\n",
       "      <th></th>\n",
       "      <th>state_size_windows</th>\n",
       "      <th>cumulative_scope</th>\n",
       "    </tr>\n",
       "  </thead>\n",
       "  <tbody>\n",
       "    <tr>\n",
       "      <th>0</th>\n",
       "      <td>1</td>\n",
       "      <td>67008.380000</td>\n",
       "    </tr>\n",
       "    <tr>\n",
       "      <th>1</th>\n",
       "      <td>2</td>\n",
       "      <td>19588.294118</td>\n",
       "    </tr>\n",
       "    <tr>\n",
       "      <th>2</th>\n",
       "      <td>3</td>\n",
       "      <td>14039.196078</td>\n",
       "    </tr>\n",
       "    <tr>\n",
       "      <th>3</th>\n",
       "      <td>4</td>\n",
       "      <td>12901.882353</td>\n",
       "    </tr>\n",
       "    <tr>\n",
       "      <th>4</th>\n",
       "      <td>5</td>\n",
       "      <td>11323.549020</td>\n",
       "    </tr>\n",
       "    <tr>\n",
       "      <th>...</th>\n",
       "      <td>...</td>\n",
       "      <td>...</td>\n",
       "    </tr>\n",
       "    <tr>\n",
       "      <th>8075</th>\n",
       "      <td>8076</td>\n",
       "      <td>708552.333333</td>\n",
       "    </tr>\n",
       "    <tr>\n",
       "      <th>8076</th>\n",
       "      <td>8077</td>\n",
       "      <td>712055.607843</td>\n",
       "    </tr>\n",
       "    <tr>\n",
       "      <th>8077</th>\n",
       "      <td>8078</td>\n",
       "      <td>715493.470588</td>\n",
       "    </tr>\n",
       "    <tr>\n",
       "      <th>8078</th>\n",
       "      <td>8079</td>\n",
       "      <td>718120.098039</td>\n",
       "    </tr>\n",
       "    <tr>\n",
       "      <th>8079</th>\n",
       "      <td>8080</td>\n",
       "      <td>725081.478261</td>\n",
       "    </tr>\n",
       "  </tbody>\n",
       "</table>\n",
       "<p>8080 rows × 2 columns</p>\n",
       "</div>"
      ],
      "text/plain": [
       "      state_size_windows  cumulative_scope\n",
       "0                      1      67008.380000\n",
       "1                      2      19588.294118\n",
       "2                      3      14039.196078\n",
       "3                      4      12901.882353\n",
       "4                      5      11323.549020\n",
       "...                  ...               ...\n",
       "8075                8076     708552.333333\n",
       "8076                8077     712055.607843\n",
       "8077                8078     715493.470588\n",
       "8078                8079     718120.098039\n",
       "8079                8080     725081.478261\n",
       "\n",
       "[8080 rows x 2 columns]"
      ]
     },
     "execution_count": 88,
     "metadata": {},
     "output_type": "execute_result"
    }
   ],
   "source": [
    "d1"
   ]
  },
  {
   "cell_type": "code",
   "execution_count": 89,
   "id": "700c85c3-d6f7-4ecf-82dc-b3e8016e3b93",
   "metadata": {},
   "outputs": [
    {
     "data": {
      "text/plain": [
       "[<matplotlib.lines.Line2D at 0x326cd02e0>]"
      ]
     },
     "execution_count": 89,
     "metadata": {},
     "output_type": "execute_result"
    },
    {
     "data": {
      "image/png": "[encoded data removed]",
      "text/plain": [
       "<Figure size 640x480 with 1 Axes>"
      ]
     },
     "metadata": {},
     "output_type": "display_data"
    }
   ],
   "source": [
    " plt.plot(d1['state_size_windows'], d1['cumulative_scope'], marker='o')"
   ]
  },
  {
   "cell_type": "code",
   "execution_count": 93,
   "id": "bd99152e",
   "metadata": {},
   "outputs": [],
   "source": [
    "d2 = df.groupby('sate_size_items')['cumulative_emit'].mean().reset_index()"
   ]
  },
  {
   "cell_type": "code",
   "execution_count": 94,
   "id": "81240102",
   "metadata": {},
   "outputs": [
    {
     "data": {
      "text/html": [
       "<div>\n",
       "<style scoped>\n",
       "    .dataframe tbody tr th:only-of-type {\n",
       "        vertical-align: middle;\n",
       "    }\n",
       "\n",
       "    .dataframe tbody tr th {\n",
       "        vertical-align: top;\n",
       "    }\n",
       "\n",
       "    .dataframe thead th {\n",
       "        text-align: right;\n",
       "    }\n",
       "</style>\n",
       "<table border=\"1\" class=\"dataframe\">\n",
       "  <thead>\n",
       "    <tr style=\"text-align: right;\">\n",
       "      <th></th>\n",
       "      <th>sate_size_items</th>\n",
       "      <th>cumulative_emit</th>\n",
       "    </tr>\n",
       "  </thead>\n",
       "  <tbody>\n",
       "    <tr>\n",
       "      <th>0</th>\n",
       "      <td>2</td>\n",
       "      <td>36875.0</td>\n",
       "    </tr>\n",
       "    <tr>\n",
       "      <th>1</th>\n",
       "      <td>3</td>\n",
       "      <td>20708.0</td>\n",
       "    </tr>\n",
       "    <tr>\n",
       "      <th>2</th>\n",
       "      <td>4</td>\n",
       "      <td>20250.0</td>\n",
       "    </tr>\n",
       "    <tr>\n",
       "      <th>3</th>\n",
       "      <td>5</td>\n",
       "      <td>19875.0</td>\n",
       "    </tr>\n",
       "    <tr>\n",
       "      <th>4</th>\n",
       "      <td>6</td>\n",
       "      <td>20292.0</td>\n",
       "    </tr>\n",
       "    <tr>\n",
       "      <th>...</th>\n",
       "      <td>...</td>\n",
       "      <td>...</td>\n",
       "    </tr>\n",
       "    <tr>\n",
       "      <th>403990</th>\n",
       "      <td>403992</td>\n",
       "      <td>15458.0</td>\n",
       "    </tr>\n",
       "    <tr>\n",
       "      <th>403991</th>\n",
       "      <td>403993</td>\n",
       "      <td>17583.0</td>\n",
       "    </tr>\n",
       "    <tr>\n",
       "      <th>403992</th>\n",
       "      <td>403994</td>\n",
       "      <td>17500.0</td>\n",
       "    </tr>\n",
       "    <tr>\n",
       "      <th>403993</th>\n",
       "      <td>403995</td>\n",
       "      <td>16541.0</td>\n",
       "    </tr>\n",
       "    <tr>\n",
       "      <th>403994</th>\n",
       "      <td>403996</td>\n",
       "      <td>17416.0</td>\n",
       "    </tr>\n",
       "  </tbody>\n",
       "</table>\n",
       "<p>403995 rows × 2 columns</p>\n",
       "</div>"
      ],
      "text/plain": [
       "        sate_size_items cumulative_emit\n",
       "0                     2         36875.0\n",
       "1                     3         20708.0\n",
       "2                     4         20250.0\n",
       "3                     5         19875.0\n",
       "4                     6         20292.0\n",
       "...                 ...             ...\n",
       "403990           403992         15458.0\n",
       "403991           403993         17583.0\n",
       "403992           403994         17500.0\n",
       "403993           403995         16541.0\n",
       "403994           403996         17416.0\n",
       "\n",
       "[403995 rows x 2 columns]"
      ]
     },
     "execution_count": 94,
     "metadata": {},
     "output_type": "execute_result"
    }
   ],
   "source": [
    "d2"
   ]
  },
  {
   "cell_type": "code",
   "execution_count": 95,
   "id": "ceb47bd7",
   "metadata": {},
   "outputs": [
    {
     "data": {
      "text/plain": [
       "[<matplotlib.lines.Line2D at 0x3204cbd30>]"
      ]
     },
     "execution_count": 95,
     "metadata": {},
     "output_type": "execute_result"
    },
    {
     "data": {
      "image/png": "[encoded data removed]",
      "text/plain": [
       "<Figure size 640x480 with 1 Axes>"
      ]
     },
     "metadata": {},
     "output_type": "display_data"
    }
   ],
   "source": [
    " plt.plot(d2['sate_size_items'], d2['cumulative_emit'], marker='o')"
   ]
  },
  {
   "cell_type": "code",
   "execution_count": null,
   "id": "1e6f14c1",
   "metadata": {},
   "outputs": [],
   "source": []
  },
  {
   "cell_type": "code",
   "execution_count": null,
   "id": "eb164da1",
   "metadata": {},
   "outputs": [],
   "source": []
  },
  {
   "cell_type": "code",
   "execution_count": 150,
   "id": "09aebe5b-9453-4197-93fd-deae50c33aca",
   "metadata": {},
   "outputs": [
    {
     "data": {
      "image/png": "[encoded data removed]",
      "text/plain": [
       "<Figure size 640x480 with 2 Axes>"
      ]
     },
     "metadata": {},
     "output_type": "display_data"
    }
   ],
   "source": [
    "mean = result['Latency'].mean()\n",
    "mean.index = np.arange(1,len(mean)+1)\n",
    "\n",
    "_, ax = plt.subplots()\n",
    "\n",
    "result[['State50','State100','State150','State200','State250','State300']].boxplot(showfliers=False, ax=ax)\n",
    "\n",
    "mean.plot(ax=ax, secondary_y=True)\n",
    "\n",
    "plt.savefig('SUMtests.png')\n",
    "plt.show()\n"
   ]
  },
  {
   "cell_type": "code",
   "execution_count": null,
   "id": "d9b7114b",
   "metadata": {},
   "outputs": [],
   "source": []
  },
  {
   "cell_type": "code",
   "execution_count": 153,
   "id": "0759adae-3791-4ddf-84d1-7a3d845a36bb",
   "metadata": {},
   "outputs": [
    {
     "data": {
      "text/plain": [
       "State50         6.575958\n",
       "Latency     13720.706271\n",
       "State100        6.003700\n",
       "Latency     11488.141014\n",
       "State150        6.446145\n",
       "Latency     12168.401940\n",
       "State200        7.036104\n",
       "Latency     10874.517052\n",
       "State250        6.156816\n",
       "Latency     12963.543354\n",
       "State300        6.178218\n",
       "Latency     12394.144414\n",
       "dtype: float64"
      ]
     },
     "execution_count": 153,
     "metadata": {},
     "output_type": "execute_result"
    }
   ],
   "source": [
    "result.mean()"
   ]
  },
  {
   "cell_type": "code",
   "execution_count": 111,
   "id": "3d72982e-b80d-46e4-b65d-10a86289d768",
   "metadata": {},
   "outputs": [
    {
     "data": {
      "text/plain": [
       "['SUM50', 'SUM100', 'SUM150', 'SUM200', 'SUM250']"
      ]
     },
     "execution_count": 111,
     "metadata": {},
     "output_type": "execute_result"
    }
   ],
   "source": []
  },
  {
   "cell_type": "code",
   "execution_count": 144,
   "id": "aff20e9e-be54-48df-8f82-a904457866a8",
   "metadata": {},
   "outputs": [
    {
     "data": {
      "image/png": "[encoded data removed]",
      "text/plain": [
       "<Figure size 640x480 with 1 Axes>"
      ]
     },
     "metadata": {},
     "output_type": "display_data"
    }
   ],
   "source": [
    "test_errors_dict = dict()\n",
    "np.random.seed(40)\n",
    "\n",
    "test_errors_dict[2] = np.random.rand(20)\n",
    "test_errors_dict[3] = np.random.rand(20)\n",
    "test_errors_dict[5] = np.random.rand(20)\n",
    "\n",
    "df = pd.DataFrame(data=test_errors_dict)\n",
    "df = df.astype(float)\n",
    "\n",
    "mean = df.mean()\n",
    "mean.index = np.arange(1,len(mean)+1)\n",
    "\n",
    "_, ax = plt.subplots()\n",
    "mean.plot(ax=ax)\n",
    "df.boxplot(showfliers=False, ax=ax)\n",
    "\n",
    "plt.show()"
   ]
  },
  {
   "cell_type": "code",
   "execution_count": 123,
   "id": "5e55ad38-4ee9-4cbd-a50d-ebdac6a40879",
   "metadata": {},
   "outputs": [
    {
     "data": {
      "text/plain": [
       "['SUM50', 'SUM100', 'SUM150', 'SUM200', 'SUM250', 'SUM300']"
      ]
     },
     "execution_count": 123,
     "metadata": {},
     "output_type": "execute_result"
    }
   ],
   "source": [
    "[\"SUM\"+str(50*(i+1)) for i in range(len(mean))]"
   ]
  },
  {
   "cell_type": "code",
   "execution_count": null,
   "id": "1fdd2c65-6d9f-47c4-9422-339136f408aa",
   "metadata": {},
   "outputs": [],
   "source": []
  }
 ],
 "metadata": {
  "kernelspec": {
   "display_name": "Python 3 (ipykernel)",
   "language": "python",
   "name": "python3"
  },
  "language_info": {
   "codemirror_mode": {
    "name": "ipython",
    "version": 3
   },
   "file_extension": ".py",
   "mimetype": "text/x-python",
   "name": "python",
   "nbconvert_exporter": "python",
   "pygments_lexer": "ipython3",
   "version": "3.10.7"
  }
 },
 "nbformat": 4,
 "nbformat_minor": 5
}
